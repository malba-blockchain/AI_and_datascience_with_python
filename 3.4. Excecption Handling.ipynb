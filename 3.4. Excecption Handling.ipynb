{
  "metadata": {
    "kernelspec": {
      "name": "python",
      "display_name": "Python (Pyodide)",
      "language": "python"
    },
    "language_info": {
      "codemirror_mode": {
        "name": "python",
        "version": 3
      },
      "file_extension": ".py",
      "mimetype": "text/x-python",
      "name": "python",
      "nbconvert_exporter": "python",
      "pygments_lexer": "ipython3",
      "version": "3.8"
    },
    "prev_pub_hash": "abb9917dfd7a8c219ca8f58ab7002967472e0fef9004ead21334c695bee6a161"
  },
  "nbformat_minor": 4,
  "nbformat": 4,
  "cells": [
    {
      "cell_type": "markdown",
      "source": "<p style=\"text-align:center\">\n    <a href=\"https://skills.network\" target=\"_blank\">\n    <img src=\"https://cf-courses-data.s3.us.cloud-object-storage.appdomain.cloud/assets/logos/SN_web_lightmode.png\" width=\"200\" alt=\"Skills Network Logo\">\n    </a>\n</p>\n",
      "metadata": {}
    },
    {
      "cell_type": "markdown",
      "source": "# **Exception Handling**\n\nEstimated time needed: **15** minutes\n    \n\n## Objectives\n\nAfter completing this lab you will be able to:\n\n* Understand exceptions    \n* Handle the exceptions\n",
      "metadata": {}
    },
    {
      "cell_type": "markdown",
      "source": "## Table of Contents\n",
      "metadata": {}
    },
    {
      "cell_type": "markdown",
      "source": "* What is an Exception?\n* Exception Handling\n",
      "metadata": {}
    },
    {
      "cell_type": "markdown",
      "source": "----\n",
      "metadata": {}
    },
    {
      "cell_type": "markdown",
      "source": "## What is an Exception?\n",
      "metadata": {}
    },
    {
      "cell_type": "markdown",
      "source": "In this section you will learn about what an exception is and see examples of them.\n",
      "metadata": {}
    },
    {
      "cell_type": "markdown",
      "source": "### Definition\n",
      "metadata": {}
    },
    {
      "cell_type": "markdown",
      "source": "An exception is an error that occurs during the execution of code. This error causes the code to raise an exception and if not prepared to handle it will halt the execution of the code.\n",
      "metadata": {}
    },
    {
      "cell_type": "markdown",
      "source": "### Examples\n",
      "metadata": {}
    },
    {
      "cell_type": "markdown",
      "source": "Run each piece of code and observe the exception raised\n",
      "metadata": {}
    },
    {
      "cell_type": "code",
      "source": "1/0",
      "metadata": {
        "trusted": true
      },
      "outputs": [
        {
          "ename": "<class 'ZeroDivisionError'>",
          "evalue": "division by zero",
          "traceback": [
            "\u001b[0;31m---------------------------------------------------------------------------\u001b[0m",
            "\u001b[0;31mZeroDivisionError\u001b[0m                         Traceback (most recent call last)",
            "Cell \u001b[0;32mIn[1], line 1\u001b[0m\n\u001b[0;32m----> 1\u001b[0m \u001b[38;5;241;43m1\u001b[39;49m\u001b[38;5;241;43m/\u001b[39;49m\u001b[38;5;241;43m0\u001b[39;49m\n",
            "\u001b[0;31mZeroDivisionError\u001b[0m: division by zero"
          ],
          "output_type": "error"
        }
      ],
      "execution_count": 1
    },
    {
      "cell_type": "markdown",
      "source": "<code>ZeroDivisionError</code> occurs when you try to divide by zero.\n",
      "metadata": {}
    },
    {
      "cell_type": "code",
      "source": "y = a + 5",
      "metadata": {
        "trusted": true
      },
      "outputs": [
        {
          "ename": "<class 'NameError'>",
          "evalue": "name 'a' is not defined",
          "traceback": [
            "\u001b[0;31m---------------------------------------------------------------------------\u001b[0m",
            "\u001b[0;31mNameError\u001b[0m                                 Traceback (most recent call last)",
            "Cell \u001b[0;32mIn[2], line 1\u001b[0m\n\u001b[0;32m----> 1\u001b[0m y \u001b[38;5;241m=\u001b[39m \u001b[43ma\u001b[49m \u001b[38;5;241m+\u001b[39m \u001b[38;5;241m5\u001b[39m\n",
            "\u001b[0;31mNameError\u001b[0m: name 'a' is not defined"
          ],
          "output_type": "error"
        }
      ],
      "execution_count": 2
    },
    {
      "cell_type": "markdown",
      "source": "<code>NameError</code> -- in this case, it means that you tried to use the variable a when it was not defined.\n",
      "metadata": {}
    },
    {
      "cell_type": "code",
      "source": "a = [1, 2, 3]\na[10]",
      "metadata": {
        "trusted": true
      },
      "outputs": [
        {
          "ename": "<class 'IndexError'>",
          "evalue": "list index out of range",
          "traceback": [
            "\u001b[0;31m---------------------------------------------------------------------------\u001b[0m",
            "\u001b[0;31mIndexError\u001b[0m                                Traceback (most recent call last)",
            "Cell \u001b[0;32mIn[3], line 2\u001b[0m\n\u001b[1;32m      1\u001b[0m a \u001b[38;5;241m=\u001b[39m [\u001b[38;5;241m1\u001b[39m, \u001b[38;5;241m2\u001b[39m, \u001b[38;5;241m3\u001b[39m]\n\u001b[0;32m----> 2\u001b[0m \u001b[43ma\u001b[49m\u001b[43m[\u001b[49m\u001b[38;5;241;43m10\u001b[39;49m\u001b[43m]\u001b[49m\n",
            "\u001b[0;31mIndexError\u001b[0m: list index out of range"
          ],
          "output_type": "error"
        }
      ],
      "execution_count": 3
    },
    {
      "cell_type": "markdown",
      "source": "<code>IndexError</code> -- in this case, it occured because you tried to access data from a list using an index that does not exist for this list.\n",
      "metadata": {}
    },
    {
      "cell_type": "markdown",
      "source": "There are many more exceptions that are built into Python, here is a list of them https://docs.python.org/3/library/exceptions.html\n",
      "metadata": {}
    },
    {
      "cell_type": "markdown",
      "source": "## Exception Handling\n",
      "metadata": {}
    },
    {
      "cell_type": "markdown",
      "source": "In this section you will learn how to handle exceptions. You will understand how to make your program perform specified tasks instead of halting code execution when an exception is encountered.\n",
      "metadata": {}
    },
    {
      "cell_type": "markdown",
      "source": "### Try Except\n",
      "metadata": {}
    },
    {
      "cell_type": "markdown",
      "source": "A <code>try except</code> will allow you to execute code that might raise an exception and in the case of any exception or a specific one we can handle or catch the exception and execute specific code. This will allow us to continue the execution of our program even if there is an exception.\n\nPython tries to execute the code in the <code>try</code> block. In this case if there is any exception raised by the code in the <code>try</code> block, it will be caught and the code block in the <code>except</code> block will be executed. After that, the code that comes <em>after</em> the try except will be executed.\n",
      "metadata": {}
    },
    {
      "cell_type": "code",
      "source": "# potential code before try catch\n\ntry:\n    # code to try to execute\nexcept:\n    # code to execute if there is an exception\n    \n# code that will still execute if there is an exception",
      "metadata": {
        "trusted": true
      },
      "outputs": [
        {
          "ename": "<class 'IndentationError'>",
          "evalue": "expected an indented block after 'try' statement on line 3 (<ipython-input-4-5647baae0eae>, line 5)",
          "traceback": [
            "\u001b[0;36m  Cell \u001b[0;32mIn[4], line 5\u001b[0;36m\u001b[0m\n\u001b[0;31m    except:\u001b[0m\n\u001b[0m    ^\u001b[0m\n\u001b[0;31mIndentationError\u001b[0m\u001b[0;31m:\u001b[0m expected an indented block after 'try' statement on line 3\n"
          ],
          "output_type": "error"
        }
      ],
      "execution_count": 4
    },
    {
      "cell_type": "markdown",
      "source": "### Try Except Example\n",
      "metadata": {}
    },
    {
      "cell_type": "markdown",
      "source": "In this example we are trying to divide a number given by the user, save the outcome in the variable <code>a</code>, and then we would like to print the result of the operation. When taking user input and dividing a number by it there are a couple of exceptions that can be raised. For example if we divide by zero. Try running the following block of code with <code>b</code> as a number. An exception will only be raised if <code>b</code> is zero.\n",
      "metadata": {}
    },
    {
      "cell_type": "code",
      "source": "a = 1\n\ntry:\n    b = int(input(\"Please enter a number to divide a\"))\n    a = a/b\n    print(\"Success a=\",a)\nexcept:\n    print(\"There was an error\")\n        \n",
      "metadata": {
        "trusted": true
      },
      "outputs": [
        {
          "name": "stdout",
          "output_type": "stream",
          "text": "There was an error\n"
        },
        {
          "output_type": "stream",
          "name": "stdin",
          "text": "Please enter a number to divide a 100\n"
        }
      ],
      "execution_count": 6
    },
    {
      "cell_type": "markdown",
      "source": "### Try Except Specific\n",
      "metadata": {}
    },
    {
      "cell_type": "markdown",
      "source": "A specific <code>try except</code> allows you to catch certain exceptions and also execute certain code depending on the exception. This is useful if you do not want to deal with some exceptions and the execution should halt. It can also help you find errors in your code that you might not be aware of. Furthermore, it can help you differentiate responses to different exceptions. In this case, the code after the try except might not run depending on the error.\n",
      "metadata": {}
    },
    {
      "cell_type": "markdown",
      "source": "<b>Do not run, just to illustrate:</b>\n",
      "metadata": {}
    },
    {
      "cell_type": "code",
      "source": "# potential code before try catch\ntry:\n    # code to try to execute\nexcept (ZeroDivisionError, NameError):\n    # code to execute if there is an exception of the given types\n    \n# code that will execute if there is no exception or a one that we are handling",
      "metadata": {
        "trusted": true
      },
      "outputs": [
        {
          "ename": "<class 'IndentationError'>",
          "evalue": "expected an indented block after 'try' statement on line 3 (<ipython-input-7-e61cf3848eb0>, line 5)",
          "traceback": [
            "\u001b[0;36m  Cell \u001b[0;32mIn[7], line 5\u001b[0;36m\u001b[0m\n\u001b[0;31m    except (ZeroDivisionError, NameError):\u001b[0m\n\u001b[0m    ^\u001b[0m\n\u001b[0;31mIndentationError\u001b[0m\u001b[0;31m:\u001b[0m expected an indented block after 'try' statement on line 3\n"
          ],
          "output_type": "error"
        }
      ],
      "execution_count": 7
    },
    {
      "cell_type": "code",
      "source": "# potential code before try catch\n\ntry:\n    # code to try to execute\nexcept ZeroDivisionError:\n    # code to execute if there is a ZeroDivisionError\nexcept NameError:\n    # code to execute if there is a NameError\n    \n# code that will execute if there is no exception or a one that we are handling",
      "metadata": {},
      "outputs": [],
      "execution_count": null
    },
    {
      "cell_type": "markdown",
      "source": "You can also have an empty <code>except</code> at the end to catch an unexpected exception:\n",
      "metadata": {}
    },
    {
      "cell_type": "markdown",
      "source": "<b>Do not run, just to illustrate:</b>\n",
      "metadata": {}
    },
    {
      "cell_type": "code",
      "source": "# potential code before try catch\n\ntry:\n    # code to try to execute\nexcept ZeroDivisionError:\n    # code to execute if there is a ZeroDivisionError\nexcept NameError:\n    # code to execute if there is a NameError\nexcept:\n    # code to execute if ther is any exception\n    \n# code that will execute if there is no exception or a one that we are handling",
      "metadata": {},
      "outputs": [],
      "execution_count": null
    },
    {
      "cell_type": "markdown",
      "source": "### Try Except Specific Example\n",
      "metadata": {}
    },
    {
      "cell_type": "markdown",
      "source": "This is the same example as above, but now we will add differentiated messages depending on the exception, letting the user know what is wrong with the input.\n",
      "metadata": {}
    },
    {
      "cell_type": "code",
      "source": "a = 1\n\ntry:\n    b = int(input(\"Please enter a number to divide a\"))\n    a = a/b\n    print(\"Success a=\",a)\nexcept ZeroDivisionError:\n    print(\"The number you provided cant divide 1 because it is 0\")\nexcept ValueError:\n    print(\"You did not provide a number\")\nexcept:\n    print(\"Something went wrong\")\n        \n",
      "metadata": {},
      "outputs": [],
      "execution_count": null
    },
    {
      "cell_type": "markdown",
      "source": "### Try Except Else and Finally\n",
      "metadata": {}
    },
    {
      "cell_type": "markdown",
      "source": "<code>else</code> allows one to check if there was no exception when executing the try block. This is useful when we want to execute something only if there were no errors.\n",
      "metadata": {}
    },
    {
      "cell_type": "markdown",
      "source": "<b>do not run, just to illustrate</b>\n",
      "metadata": {}
    },
    {
      "cell_type": "code",
      "source": "# potential code before try catch\n\ntry:\n    # code to try to execute\nexcept ZeroDivisionError:\n    # code to execute if there is a ZeroDivisionError\nexcept NameError:\n    # code to execute if there is a NameError\nexcept:\n    # code to execute if ther is any exception\nelse:\n    # code to execute if there is no exception\n    \n# code that will execute if there is no exception or a one that we are handling",
      "metadata": {
        "trusted": true
      },
      "outputs": [
        {
          "ename": "<class 'IndentationError'>",
          "evalue": "expected an indented block after 'try' statement on line 3 (<ipython-input-8-da8d2c055dc5>, line 5)",
          "traceback": [
            "\u001b[0;36m  Cell \u001b[0;32mIn[8], line 5\u001b[0;36m\u001b[0m\n\u001b[0;31m    except ZeroDivisionError:\u001b[0m\n\u001b[0m    ^\u001b[0m\n\u001b[0;31mIndentationError\u001b[0m\u001b[0;31m:\u001b[0m expected an indented block after 'try' statement on line 3\n"
          ],
          "output_type": "error"
        }
      ],
      "execution_count": 8
    },
    {
      "cell_type": "markdown",
      "source": "<code>finally</code> allows us to always execute something even if there is an exception or not. This is usually used to signify the end of the try except.\n",
      "metadata": {}
    },
    {
      "cell_type": "code",
      "source": "# potential code before try catch\n\ntry:\n    # code to try to execute\nexcept ZeroDivisionError:\n    # code to execute if there is a ZeroDivisionError\nexcept NameError:\n    # code to execute if there is a NameError\nexcept:\n    # code to execute if ther is any exception\nelse:\n    # code to execute if there is no exception\nfinally:\n    # code to execute at the end of the try except no matter what\n    \n# code that will execute if there is no exception or a one that we are handling",
      "metadata": {},
      "outputs": [],
      "execution_count": null
    },
    {
      "cell_type": "markdown",
      "source": "### Try Except Else and Finally Example\n",
      "metadata": {}
    },
    {
      "cell_type": "markdown",
      "source": "You might have noticed that even if there is an error the value of <code>a</code> is always printed. Let's use the <code>else</code> and print the value of <code>a</code> only if there is no error.\n",
      "metadata": {}
    },
    {
      "cell_type": "code",
      "source": "a = 1\n\ntry:\n    b = int(input(\"Please enter a number to divide a\"))\n    a = a/b\nexcept ZeroDivisionError:\n    print(\"The number you provided cant divide 1 because it is 0\")\nexcept ValueError:\n    print(\"You did not provide a number\")\nexcept:\n    print(\"Something went wrong\")\nelse:\n    print(\"success a=\",a)",
      "metadata": {
        "trusted": true
      },
      "outputs": [
        {
          "name": "stdout",
          "output_type": "stream",
          "text": "Something went wrong\n"
        },
        {
          "output_type": "stream",
          "name": "stdin",
          "text": "Please enter a number to divide a 100\n"
        }
      ],
      "execution_count": 9
    },
    {
      "cell_type": "markdown",
      "source": "Now lets let the user know that we are done processing their answer. Using the <code>finally</code>, let's add a print.\n",
      "metadata": {}
    },
    {
      "cell_type": "code",
      "source": "a = 1\n\ntry:\n    b = int(input(\"Please enter a number to divide a\"))\n    a = a/b\nexcept ZeroDivisionError:\n    print(\"The number you provided cant divide 1 because it is 0\")\nexcept ValueError:\n    print(\"You did not provide a number\")\nexcept:\n    print(\"Something went wrong\")\nelse:\n    print(\"success a=\",a)\nfinally:\n    print(\"Processing Complete\")",
      "metadata": {
        "trusted": true
      },
      "outputs": [
        {
          "name": "stdout",
          "output_type": "stream",
          "text": "Something went wrong\nProcessing Complete\n"
        },
        {
          "output_type": "stream",
          "name": "stdin",
          "text": "Please enter a number to divide a 100\n"
        }
      ],
      "execution_count": 10
    },
    {
      "cell_type": "markdown",
      "source": "<center>\n    \n    \n# Practice Exercises \n\n</center>\n",
      "metadata": {}
    },
    {
      "cell_type": "markdown",
      "source": "## Exercise 1: Handling ZeroDivisionError\n",
      "metadata": {}
    },
    {
      "cell_type": "markdown",
      "source": "Imagine you have two numbers and want to determine what happens when you divide one number by the other. To do this, you need to create a Python function called `safe_divide.` You give this function two numbers, a `'numerator'` and a `'denominator'`. The 'numerator' is the number you want to divide, and the `'denominator'` is the number you want to divide by. Use the user input method of Python to take the values.\n\nThe function should be able to do the division for you and give you the result. But here's the catch: if you try to divide by zero (which is not allowed in math), the function should be smart enough to catch that and tell you that it's not possible to divide by zero. Instead of showing an error, it should return None, which means 'nothing' or 'no value', and print `\"Error: Cannot divide by Zero.`\n",
      "metadata": {}
    },
    {
      "cell_type": "code",
      "source": "#Type your code here\n\ndef safe_divide(a,b):\n    try:\n        return a/b\n    except ZeroDivisionError:\n        print(\"Error: Cannot divide by Zero\")\n\nprint(safe_divide(1,0))",
      "metadata": {
        "trusted": true
      },
      "outputs": [
        {
          "name": "stdout",
          "output_type": "stream",
          "text": "Error: Cannot divide by Zero\nNone\n"
        }
      ],
      "execution_count": 19
    },
    {
      "cell_type": "markdown",
      "source": "**Note:- Practice handling exceptions by trying different input types like using integers, strings, zero, negative values, or other data types.**\n",
      "metadata": {}
    },
    {
      "cell_type": "markdown",
      "source": "<details><summary>Click here for the hints</summary>\n\n```python\nFollow these: -\n* Define a function to perform the division and use two arguments.\n* Use the try-except block to handle ZeroDivisionError.\n* Return the result of the division if no error occurs.\n* Return None if division by zero occurs.\n* take user input for numerator and denominator values.\n* call and print your function with the user inputs.\n**Note:- Test with different inputs to validate error handling.**\n```\n\n</details>\n",
      "metadata": {}
    },
    {
      "cell_type": "markdown",
      "source": "\n<details><summary>Click here for the solution</summary>\n\n```python\n\ndef safe_divide(numerator,denominator):\n    try:\n        result = numerator / denominator\n        return result\n    except ZeroDivisionError:\n        print(\"Error: Cannot divide by zero.\")\n        return None\n# Test case\nnumerator=int(input(\"Enter the numerator value:-\"))\ndenominator=int(input(\"Enter the denominator value:-\"))\nprint(safe_divide(numerator,denominator)) \n```\n\n</details>\n",
      "metadata": {}
    },
    {
      "cell_type": "markdown",
      "source": "## Exercise 2: Handling ValueError\n",
      "metadata": {}
    },
    {
      "cell_type": "markdown",
      "source": "Imagine you have a number and want to calculate its square root. To do this, you need to create a Python function. You give this function one number, `'number1'`.\n\nThe function should generate the square root value if you provide a positive integer or float value as input. However, the function should be clever enough to detect the mistake if you enter a negative value. It should kindly inform you with a message saying, `'Invalid input! Please enter a positive integer or a float value.`\n",
      "metadata": {}
    },
    {
      "cell_type": "code",
      "source": "#Type your code here\nimport math\n\ndef square_root(a):\n    try:\n        return math.sqrt(a)\n    except ValueError:\n        print(\"Error: Invalid input! Please enter a positive integer or a float value.\")\n\nprint(square_root(-10))",
      "metadata": {
        "trusted": true
      },
      "outputs": [
        {
          "name": "stdout",
          "output_type": "stream",
          "text": "Error: Invalid input! Please enter a positive integer or a float value.\nNone\n"
        }
      ],
      "execution_count": 18
    },
    {
      "cell_type": "markdown",
      "source": "**Note:- Practice handling exceptions by trying different input types like using integers, strings, zero, negative values, or other data types.**\n",
      "metadata": {}
    },
    {
      "cell_type": "markdown",
      "source": "<details><summary>Click here for the hints</summary>\n\n```python\nFollow these:-\n* Define a function to perform square root of the argument. \n* Use try-except block for error handling.\n* Use `sqrt()` function from the `math` package to calculate the square root. Catch ValueError and display the error message.\"\n* Take user input of the value, number1. \n* Test with negative numbers to validate error handling.\n```\n\n</details>\n",
      "metadata": {}
    },
    {
      "cell_type": "markdown",
      "source": "<details><summary>Click here for the solution</summary>\n\n```python\nimport math\n\ndef perform_calculation(number1):\n    try:\n        result = math.sqrt(number1)\n        print(f\"Result: {result}\")\n    except ValueError:\n        print(\"Error: Invalid input! Please enter a positive integer or a float value.\")\n# Test case\nnumber1=float(input(\"Enter the number:-\"))\nperform_calculation(number1)\n```\n\n**Note:- Test with different inputs to validate error handling.**\n\n</details>\n",
      "metadata": {}
    },
    {
      "cell_type": "markdown",
      "source": "## Exercise 3: Handling Generic Exceptions\n",
      "metadata": {}
    },
    {
      "cell_type": "markdown",
      "source": "Imagine you have a number and want to perform a complex mathematical task. The calculation requires dividing the value of the input argument `\"num\"` by the difference between `\"num\"` and 5, and the result has to be stored in a variable called `\"result\"`.\n\nYou have to define a function so that it can perform that complex mathematical task. The function should handle any potential errors that occur during the calculation. To do this, you can use a try-except block. If any exception arises during the calculation, it should catch the error using the generic exception class `\"Exception\" as \"e\"`. When an exception occurs, the function should display `\"An error occurred during calculation.`\n",
      "metadata": {}
    },
    {
      "cell_type": "code",
      "source": "#Type your code here\n\ndef complex_calculation(num):\n    try:\n        result = num / (num - 5)\n        return result\n    except Exception as e:\n        print(\"An error occurred during calculation.\")\n\ncomplex_calculation(100)",
      "metadata": {
        "trusted": true
      },
      "outputs": [
        {
          "execution_count": 25,
          "output_type": "execute_result",
          "data": {
            "text/plain": "1.0526315789473684"
          },
          "metadata": {}
        }
      ],
      "execution_count": 25
    },
    {
      "cell_type": "markdown",
      "source": "**Note:- Practice handling exceptions by trying different input types like using integers, strings, zero, negative values, or other data types.**\n",
      "metadata": {}
    },
    {
      "cell_type": "markdown",
      "source": "<details><summary>Click here for the hints</summary>\n\n```python\nFollow these:-\n* Define a function for the complex calculation and pass any argument.\n* Use a try-except block for error handling.\n* Perform the calculation and store the result in \"result.\"\n* Catch any exceptions using Exception as e.\n* Display \"An error occurred during calculation.\" when an exception is caught.\n* take user input\n* Call the defined function with the user input\n**Note:- Test with different inputs to validate error handling.**\n```\n\n</details>\n",
      "metadata": {}
    },
    {
      "cell_type": "markdown",
      "source": "<details><summary>Click here for the solution</summary>\n\n```python\ndef complex_calculation(num):\n    try:\n        result = num / (num - 5)\n        print (f\"Result: {result}\")\n    except Exception as e:\n        print(\"An error occurred during calculation.\")\n# Test case\nuser_input = float(input(\"Enter a number: \"))\ncomplex_calculation(user_input)\n```\n\n</details>\n",
      "metadata": {}
    },
    {
      "cell_type": "markdown",
      "source": "## Authors\n",
      "metadata": {}
    },
    {
      "cell_type": "markdown",
      "source": "<a href=\"https://www.linkedin.com/in/joseph-s-50398b136/\" target=\"_blank\">Joseph Santarcangelo</a>\n",
      "metadata": {}
    },
    {
      "cell_type": "markdown",
      "source": "## <h3 align=\"center\"> © IBM Corporation 2023. All rights reserved. <h3/>\n\n<!-- ## Change Log\n\n|  Date (YYYY-MM-DD) |  Version | Changed By  |  Change Description |\n|---|---|---|---|\n| 2023-11-02 | 2.2 | Abhishek Gagneja | Updated instructions |\n| 2023-08-01 | 2.1   | Akansha Yadav | Added optional practice section |\n| 2020-09-02  | 2.0  | Simran | Template updates to the file|\n|   |   |   |   | --!>\n\n\n\n\n\n",
      "metadata": {}
    },
    {
      "cell_type": "code",
      "source": "",
      "metadata": {},
      "outputs": [],
      "execution_count": null
    }
  ]
}